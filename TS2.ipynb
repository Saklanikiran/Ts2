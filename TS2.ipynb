{
 "cells": [
  {
   "cell_type": "markdown",
   "id": "5e57c738-6ac4-4b44-9b68-4f547d9150e9",
   "metadata": {},
   "source": [
    "# Ans : 1"
   ]
  },
  {
   "cell_type": "code",
   "execution_count": null,
   "id": "41071f84-2c7d-4dc4-9e02-5cf8cfb0a7e4",
   "metadata": {},
   "outputs": [],
   "source": []
  },
  {
   "cell_type": "markdown",
   "id": "678fcd6f-eb8e-4932-8b48-a88a5a5a1060",
   "metadata": {},
   "source": [
    "# Ans : 2"
   ]
  },
  {
   "cell_type": "code",
   "execution_count": null,
   "id": "7e26c71a-0aca-4070-a39e-67d095e1955c",
   "metadata": {},
   "outputs": [],
   "source": []
  },
  {
   "cell_type": "markdown",
   "id": "04170fad-4962-44d7-9d61-1bec3758ede6",
   "metadata": {},
   "source": [
    "# Ans : 3"
   ]
  },
  {
   "cell_type": "code",
   "execution_count": null,
   "id": "c6a31f0e-a742-4498-b279-ba692797d1ea",
   "metadata": {},
   "outputs": [],
   "source": [
    "'''\n",
    " Factors include changes in underlying processes (e.g., climate change affecting seasonal weather patterns), external interventions (e.g., marketing campaigns), economic cycles, societal trends, and technological advancements. These factors can alter the regularity and magnitude of seasonal patterns over time."
   ]
  },
  {
   "cell_type": "markdown",
   "id": "fde7cadf-f808-4255-9db0-1cb60958f4f3",
   "metadata": {},
   "source": [
    "# Ans : 4"
   ]
  },
  {
   "cell_type": "code",
   "execution_count": null,
   "id": "c65e9891-aa38-4836-b6d1-6988677ad1d8",
   "metadata": {},
   "outputs": [],
   "source": [
    "'''\n",
    "Autoregression (AR) models use the relationship between an observation and a number of lagged observations (previous time points) to model\n",
    "and forecast future values. AR models assume that past values have a linear relationship with current values, making them useful for\n",
    "capturing temporal dependencies in time series data.\n",
    "\n",
    "'''"
   ]
  },
  {
   "cell_type": "markdown",
   "id": "f61ab5c8-d0cf-4d05-a9a1-7054686843c2",
   "metadata": {},
   "source": [
    "# Ans : 5"
   ]
  },
  {
   "cell_type": "code",
   "execution_count": null,
   "id": "61c1bff4-5d8b-40aa-ab7d-7b592604919c",
   "metadata": {},
   "outputs": [],
   "source": [
    "'''\n",
    "To make predictions with AR models, you estimate the model parameters using historical data and then use the fitted model to forecast \n",
    "future values. The process involves using the lagged values and the estimated coefficients to calculate the future points iteratively,\n",
    "extending the series forward.\n",
    "'''"
   ]
  },
  {
   "cell_type": "markdown",
   "id": "e370756b-46b4-4249-bbd6-99d1836b778b",
   "metadata": {},
   "source": [
    "# Ans : 6"
   ]
  },
  {
   "cell_type": "code",
   "execution_count": null,
   "id": "bd10c2af-d311-4b36-b009-a7abe096cd9f",
   "metadata": {},
   "outputs": [],
   "source": [
    "'''\n",
    "A moving average (MA) model uses past forecast errors in a regression-like model. It captures the dependency between an observation and a\n",
    "residual error from a moving average model applied to lagged observations. Unlike AR models, which use past values, MA models use past\n",
    "errors, making them effective for modeling time series with noise and irregularities.\n",
    "'''"
   ]
  },
  {
   "cell_type": "markdown",
   "id": "acfa7ebe-0a51-4be1-9298-c69d61f999b0",
   "metadata": {},
   "source": [
    "# Ans : 7"
   ]
  },
  {
   "cell_type": "code",
   "execution_count": null,
   "id": "e35a8141-7dcc-436d-8dc0-b41a32eacdb6",
   "metadata": {},
   "outputs": [],
   "source": [
    "'''\n",
    " A mixed ARMA (AutoRegressive Moving Average) model combines both AR and MA components. It uses both past observations and past errors to\n",
    " model the time series. This combination allows ARMA models to capture more complex patterns and dependencies than standalone AR or MA \n",
    " models, making them suitable for a wider range of time series data.\n",
    " \n",
    " '''\n"
   ]
  }
 ],
 "metadata": {
  "kernelspec": {
   "display_name": "Python 3 (ipykernel)",
   "language": "python",
   "name": "python3"
  },
  "language_info": {
   "codemirror_mode": {
    "name": "ipython",
    "version": 3
   },
   "file_extension": ".py",
   "mimetype": "text/x-python",
   "name": "python",
   "nbconvert_exporter": "python",
   "pygments_lexer": "ipython3",
   "version": "3.10.8"
  }
 },
 "nbformat": 4,
 "nbformat_minor": 5
}
